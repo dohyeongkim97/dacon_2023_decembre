{
 "cells": [
  {
   "cell_type": "code",
   "execution_count": null,
   "id": "fbfda64f",
   "metadata": {},
   "outputs": [],
   "source": [
    "import pandas as pd\n",
    "import numpy as np\n",
    "import sklearn\n",
    "import seaborn as sns\n",
    "import matplotlib as mpl\n",
    "import matplotlib.pyplot as plt\n",
    "import statsmodels as sm\n",
    "from sklearn.linear_model import LinearRegression\n",
    "import itertools\n",
    "import statsmodels.tsa as tsa\n",
    "import warnings\n",
    "warnings.filterwarnings('ignore')\n",
    "import statsmodels.tsa.api as tsa\n",
    "import datetime\n",
    "from datetime import datetime, timedelta\n",
    "from sklearn.metrics import mean_absolute_error\n",
    "mae = mean_absolute_error\n",
    "\n",
    "df = pd.read_csv(\"./train.csv\")\n",
    "sample = pd.read_csv(\"./sample_submission.csv\")\n",
    "\n",
    "plt.rc('font', family='Malgun Gothic')"
   ]
  },
  {
   "cell_type": "code",
   "execution_count": null,
   "id": "afa7df4e",
   "metadata": {},
   "outputs": [],
   "source": [
    "idx_list = []\n",
    "del_list = []\n",
    "\n",
    "for i in range(len(df)):\n",
    "    if ('12-31' not in df.loc[i, '일시']) and ('-02-29' not in df.loc[i, '일시']):\n",
    "        del_list.append(i)\n",
    "        \n",
    "df2 = df.loc[del_list, :].reset_index(drop=True)\n",
    "for i in range(len(df2)):\n",
    "    if (i+1)%7 == 0:\n",
    "        idx_list.append(i)\n",
    "        "
   ]
  },
  {
   "cell_type": "code",
   "execution_count": null,
   "id": "088c2a84",
   "metadata": {},
   "outputs": [],
   "source": [
    "df3 = df2.loc[idx_list, :].reset_index(drop=True)\n",
    "df4 = df3.set_index('일시')\n",
    "arima_setup = pd.read_csv(\"arima_parameter.csv\")\n",
    "\n",
    "best_mode = tsa.statespace.SARIMAX(df4['평균기온'][:3278-54], order=(1, 0, 1),\n",
    "                                  seasonal_order = (0, 1, 1, 52),\n",
    "                                  enforc_stationarity=False,\n",
    "                                  enforce_invertibility=False)\n",
    "best_results = best_mode.fit()\n",
    "forecast = best_results.forecast(53)\n",
    "forecast = pd.DataFrame(forecast).reset_index(drop=True)"
   ]
  },
  {
   "cell_type": "code",
   "execution_count": null,
   "id": "63aa8b55",
   "metadata": {},
   "outputs": [],
   "source": [
    "temp_list = []\n",
    "for i in range(62):\n",
    "    temp_list.append(df.rolling(window=365).mean()['평균기온'][i*365])\n",
    "    \n",
    "temp_list = pd.DataFrame(temp_list).dropna()"
   ]
  },
  {
   "cell_type": "code",
   "execution_count": null,
   "id": "13507bf7",
   "metadata": {},
   "outputs": [],
   "source": [
    "start_ = datetime(2022, 12, 30)\n",
    "current_ = start_\n",
    "days = []\n",
    "\n",
    "for i in range(370):\n",
    "    days.append(current_)\n",
    "    current_ += timedelta(days=1)\n",
    "    \n",
    "final = pd.DataFrame(index = days, columns = ['temp'])\n",
    "final.iloc[0, 0] = -3.9"
   ]
  },
  {
   "cell_type": "code",
   "execution_count": null,
   "id": "c4ec9dcc",
   "metadata": {},
   "outputs": [],
   "source": [
    "for i in range(len(forecast)):\n",
    "    final.iloc[1+i*7, 0] = forecast['predicted_mean'][i]\n",
    "    \n",
    "final = final.astype(float).interpolate()\n",
    "final2 = final[2:360]\n",
    "\n",
    "# abs(temp_list.diff())[:-15].mean()\n",
    "final2['temp'] = final2['temp']+0.563927"
   ]
  },
  {
   "cell_type": "code",
   "execution_count": null,
   "id": "eb075f69",
   "metadata": {},
   "outputs": [],
   "source": [
    "# 월별로 만들어 놓은 게 있는데, 아까워서 올려는 놓음.\n",
    "monthly = pd.read_csv(\"./monthly.csv\")\n"
   ]
  },
  {
   "cell_type": "code",
   "execution_count": null,
   "id": "e974a61b",
   "metadata": {},
   "outputs": [],
   "source": []
  },
  {
   "cell_type": "code",
   "execution_count": null,
   "id": "6e028f2b",
   "metadata": {},
   "outputs": [],
   "source": [
    "final3 = final2.copy()\n",
    "\n",
    "df_linear = pd.DataFrame()\n",
    "for i in range(1, 13):\n",
    "    if i < 10:\n",
    "        num = '0'+str(i)\n",
    "    else:\n",
    "        num = str(i)\n",
    "    df_monthly = df[df['일시'].str.contains(f'-{num}-')].reset_index(drop=True)\n",
    "    \n",
    "    lr_monthly = LinearRegression()\n",
    "    lr_monthly.fit(np.array(df_monthly.index).reshape(-1, 1), df_monthly[['평균기온']])\n",
    "    \n",
    "    df_linear.loc[i, 'month'] = i\n",
    "    df_linear.loc[i, 'coef'] = lr_monthly.coef_[0]\n",
    "    df_linear.loc[i, 'intercept'] = lr_monthly.intercept_[0]"
   ]
  },
  {
   "cell_type": "code",
   "execution_count": null,
   "id": "8d8f3bd4",
   "metadata": {},
   "outputs": [],
   "source": [
    "for i in range(1, 13):\n",
    "    months = f'-{i}-'\n",
    "    for j in final3.index:\n",
    "        if months in str(j):\n",
    "            final3.loc[j, 'temp'] += df_linear.loc[i, 'coef']"
   ]
  },
  {
   "cell_type": "code",
   "execution_count": null,
   "id": "1ba7cf41",
   "metadata": {},
   "outputs": [],
   "source": [
    "sample['평균기온'] = final3['temp']\n",
    "\n",
    "sample.to_csv(\"final_.csv\")\n",
    "\n",
    "sample['평균기온'] = np.array(final3['temp'])\n",
    "\n",
    "sample\n",
    "\n",
    "sample.to_csv(\"final_.csv\")\n",
    "\n",
    "sample2 = sample.copy()"
   ]
  },
  {
   "cell_type": "code",
   "execution_count": null,
   "id": "d941e1e3",
   "metadata": {},
   "outputs": [],
   "source": [
    "sample2['평균기온'] = round(sample2['평균기온'], 1)\n"
   ]
  },
  {
   "cell_type": "code",
   "execution_count": null,
   "id": "4fe7299f",
   "metadata": {},
   "outputs": [],
   "source": [
    "# round 처리 된 것\n",
    "sample2.to_csv(\"final_3.csv\")\n",
    "# round 처리 안 된 것\n",
    "sample.to_csv(\"final_sample.csv\")"
   ]
  },
  {
   "cell_type": "code",
   "execution_count": null,
   "id": "c2878e31",
   "metadata": {},
   "outputs": [],
   "source": []
  },
  {
   "cell_type": "code",
   "execution_count": null,
   "id": "64c45d22",
   "metadata": {},
   "outputs": [],
   "source": []
  },
  {
   "cell_type": "code",
   "execution_count": null,
   "id": "00e3dded",
   "metadata": {},
   "outputs": [],
   "source": []
  },
  {
   "cell_type": "code",
   "execution_count": null,
   "id": "a48b9855",
   "metadata": {},
   "outputs": [],
   "source": []
  },
  {
   "cell_type": "code",
   "execution_count": null,
   "id": "db3cbdab",
   "metadata": {},
   "outputs": [],
   "source": []
  },
  {
   "cell_type": "code",
   "execution_count": null,
   "id": "e5e2a5ab",
   "metadata": {},
   "outputs": [],
   "source": []
  },
  {
   "cell_type": "code",
   "execution_count": null,
   "id": "bdd2d112",
   "metadata": {},
   "outputs": [],
   "source": []
  },
  {
   "cell_type": "code",
   "execution_count": null,
   "id": "94b4f42f",
   "metadata": {},
   "outputs": [],
   "source": []
  },
  {
   "cell_type": "code",
   "execution_count": null,
   "id": "2e25817e",
   "metadata": {},
   "outputs": [],
   "source": []
  }
 ],
 "metadata": {
  "kernelspec": {
   "display_name": "3.11.4",
   "language": "python",
   "name": "3.11.4"
  },
  "language_info": {
   "codemirror_mode": {
    "name": "ipython",
    "version": 3
   },
   "file_extension": ".py",
   "mimetype": "text/x-python",
   "name": "python",
   "nbconvert_exporter": "python",
   "pygments_lexer": "ipython3",
   "version": "3.11.4"
  }
 },
 "nbformat": 4,
 "nbformat_minor": 5
}
